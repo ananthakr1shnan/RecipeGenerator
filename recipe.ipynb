{
 "cells": [
  {
   "cell_type": "code",
   "execution_count": 1,
   "metadata": {},
   "outputs": [
    {
     "ename": "NameError",
     "evalue": "name 'api_key' is not defined",
     "output_type": "error",
     "traceback": [
      "\u001b[1;31m---------------------------------------------------------------------------\u001b[0m",
      "\u001b[1;31mNameError\u001b[0m                                 Traceback (most recent call last)",
      "Cell \u001b[1;32mIn[1], line 11\u001b[0m\n\u001b[0;32m      6\u001b[0m \u001b[38;5;66;03m# Initial button state\u001b[39;00m\n\u001b[0;32m      7\u001b[0m buttonisgenerate \u001b[38;5;241m=\u001b[39m \u001b[38;5;241m1\u001b[39m\n\u001b[0;32m      9\u001b[0m llm \u001b[38;5;241m=\u001b[39m ChatGroq(\n\u001b[0;32m     10\u001b[0m     temperature\u001b[38;5;241m=\u001b[39m\u001b[38;5;241m0.7\u001b[39m,  \u001b[38;5;66;03m# Increased temperature for more variability\u001b[39;00m\n\u001b[1;32m---> 11\u001b[0m     groq_api_key\u001b[38;5;241m=\u001b[39m\u001b[43mapi_key\u001b[49m,\n\u001b[0;32m     12\u001b[0m     model_name\u001b[38;5;241m=\u001b[39m\u001b[38;5;124m\"\u001b[39m\u001b[38;5;124mllama-3.1-70b-versatile\u001b[39m\u001b[38;5;124m\"\u001b[39m\n\u001b[0;32m     13\u001b[0m )\n\u001b[0;32m     15\u001b[0m \u001b[38;5;66;03m# Store previously generated recipes\u001b[39;00m\n\u001b[0;32m     16\u001b[0m previous_recipes \u001b[38;5;241m=\u001b[39m \u001b[38;5;28mset\u001b[39m()\n",
      "\u001b[1;31mNameError\u001b[0m: name 'api_key' is not defined"
     ]
    }
   ],
   "source": [
    "import random\n",
    "from langchain_groq import ChatGroq\n",
    "\n",
    "array = ['chicken','watermelom']\n",
    "\n",
    "# Initial button state\n",
    "buttonisgenerate = 1\n",
    "\n",
    "llm = ChatGroq(\n",
    "    temperature=0.7,  # Increased temperature for more variability\n",
    "    groq_api_key='api_key',\n",
    "    model_name=\"llama-3.1-70b-versatile\"\n",
    ")\n",
    "\n",
    "# Store previously generated recipes\n",
    "previous_recipes = set()\n",
    "\n",
    "def generate_recipe(ingredients, button_state):\n",
    "    # Add some variability to the prompt based on the button state\n",
    "    variability = random.choice([\"Try making\", \"How about a recipe for\", \"You can create\"])\n",
    "    prompt = f\"{variability} a recipe using the following ingredients: {', '.join(ingredients)}. Just give me the title, ingredients, and instructions and nothing else.Also thell whether the generated recipe will be tasty(eatable)?\"\n",
    "\n",
    "    # Generate a recipe\n",
    "    response = llm.invoke(prompt)\n",
    "    return response.content\n",
    "\n",
    "# Generate recipe based on button state\n",
    "if buttonisgenerate == 1:\n",
    "    response = generate_recipe(array, buttonisgenerate)\n",
    "    previous_recipes.add(response)  # Store the generated recipe\n",
    "    print(response)\n",
    "    buttonisgenerate = 2  # Change state for the next button press\n",
    "else:\n",
    "    while True:\n",
    "        response = generate_recipe(array, buttonisgenerate)\n",
    "        if response not in previous_recipes:  # Ensure it's a new recipe\n",
    "            previous_recipes.add(response)  # Store the new recipe\n",
    "            print(response)\n",
    "            break  # Exit the loop after generating a new recipe\n"
   ]
  },
  {
   "cell_type": "code",
   "execution_count": 2,
   "metadata": {},
   "outputs": [
    {
     "name": "stdout",
     "output_type": "stream",
     "text": [
      "Food items added to ChromaDB successfully!\n"
     ]
    }
   ],
   "source": [
    "import chromadb\n",
    "\n",
    "# Create a persistent ChromaDB client\n",
    "client = chromadb.PersistentClient('food_items_vectorstore')\n",
    "\n",
    "# Create or get the collection\n",
    "collection = client.get_or_create_collection(name=\"food_items\")\n",
    "\n",
    "# Sample data to insert into ChromaDB\n",
    "food_data = [\n",
    "    {\"name\": \"Milk\", \"expiry\": \"7 days\"},\n",
    "    {\"name\": \"Bread\", \"expiry\": \"3 days\"},\n",
    "    {\"name\": \"Butter\", \"expiry\": \"2 weeks\"},\n",
    "    {\"name\": \"Eggs\", \"expiry\": \"4 weeks\"},\n",
    "    {\"name\": \"Rice\", \"expiry\": \"6 months\"}\n",
    "]\n",
    "\n",
    "# Check if the collection is empty, then add data\n",
    "if not collection.count():\n",
    "    for item in food_data:\n",
    "        collection.add(\n",
    "            documents=[item['name']],  # Use the name of the food item as the document\n",
    "            metadatas={\"expiry\": item['expiry']},  # Store expiry information in metadata\n",
    "            ids=[item['name']]  # Use food item name as the unique identifier\n",
    "        )\n",
    "\n",
    "print(\"Food items added to ChromaDB successfully!\")\n",
    "\n"
   ]
  },
  {
   "cell_type": "code",
   "execution_count": 3,
   "metadata": {},
   "outputs": [
    {
     "name": "stdout",
     "output_type": "stream",
     "text": [
      "Query Result: {'ids': [['Milk']], 'distances': [[0.0]], 'metadatas': [[{'expiry': '7 days'}]], 'embeddings': None, 'documents': [['Milk']], 'uris': None, 'data': None, 'included': ['metadatas', 'documents', 'distances']}\n"
     ]
    }
   ],
   "source": [
    "# Example query to find a food item by name\n",
    "query_name = \"Milk\"  # Replace with any food item name to query\n",
    "result = collection.query(\n",
    "    query_texts=[query_name],\n",
    "    n_results=1  # Number of results to return\n",
    ")\n",
    "\n",
    "print(\"Query Result:\", result)\n"
   ]
  },
  {
   "cell_type": "code",
   "execution_count": 5,
   "metadata": {},
   "outputs": [
    {
     "name": "stdout",
     "output_type": "stream",
     "text": [
      "Expiring Items: [{'expiry': '3 days'}]\n"
     ]
    }
   ],
   "source": [
    "from datetime import datetime, timedelta\n",
    "expiring_items = []\n",
    "items = collection.get()  # Fetch the items from the collection\n",
    "now = datetime.now()\n",
    "for item in items['metadatas']:  # Access the correct key for metadata\n",
    "        expiry = item['expiry']\n",
    "\n",
    "        # Convert the expiry to an appropriate timedelta\n",
    "        days_to_expire = 0\n",
    "        if 'days' in expiry:\n",
    "            days_to_expire = int(expiry.split()[0])\n",
    "        elif 'weeks' in expiry:\n",
    "            days_to_expire = int(expiry.split()[0]) * 7\n",
    "        elif 'months' in expiry:\n",
    "            days_to_expire = int(expiry.split()[0]) * 30\n",
    "        \n",
    "        expiry_date = now + timedelta(days=days_to_expire)\n",
    "\n",
    "        # Check if the item is expiring within the next 3 days\n",
    "        if now <= expiry_date <= now + timedelta(days=3):\n",
    "            expiring_items.append(item)\n",
    "\n",
    "print(\"Expiring Items:\", expiring_items)"
   ]
  },
  {
   "cell_type": "code",
   "execution_count": null,
   "metadata": {},
   "outputs": [],
   "source": []
  }
 ],
 "metadata": {
  "kernelspec": {
   "display_name": "ml",
   "language": "python",
   "name": "python3"
  },
  "language_info": {
   "codemirror_mode": {
    "name": "ipython",
    "version": 3
   },
   "file_extension": ".py",
   "mimetype": "text/x-python",
   "name": "python",
   "nbconvert_exporter": "python",
   "pygments_lexer": "ipython3",
   "version": "3.12.2"
  }
 },
 "nbformat": 4,
 "nbformat_minor": 2
}
